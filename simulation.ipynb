{
 "cells": [
  {
   "cell_type": "code",
   "execution_count": 5,
   "metadata": {},
   "outputs": [],
   "source": [
    "import pandas as pd\n",
    "import numpy as np"
   ]
  },
  {
   "cell_type": "markdown",
   "metadata": {},
   "source": [
    "### 1.) How likely is it that you roll doubles when rolling two dice?"
   ]
  },
  {
   "cell_type": "code",
   "execution_count": 6,
   "metadata": {},
   "outputs": [],
   "source": [
    "rolls = np.random.choice([1,2,3,4,5,6], size=(10_000, 2))\n",
    "df = pd.DataFrame(rolls)\n"
   ]
  },
  {
   "cell_type": "code",
   "execution_count": 7,
   "metadata": {},
   "outputs": [
    {
     "data": {
      "text/plain": [
       "0.1694"
      ]
     },
     "execution_count": 7,
     "metadata": {},
     "output_type": "execute_result"
    }
   ],
   "source": [
    "is_double = df[0] == df[1]\n",
    "\n",
    "chances_of_rolling_doubles = (is_double).mean()\n",
    "\n",
    "chances_of_rolling_doubles"
   ]
  },
  {
   "cell_type": "markdown",
   "metadata": {},
   "source": [
    "### 2.) If you flip 8 coins, what is the probability of getting exactly 3 heads? "
   ]
  },
  {
   "cell_type": "code",
   "execution_count": 8,
   "metadata": {},
   "outputs": [],
   "source": [
    "flips = np.random.choice([1, 0], size=(10_000, 8))\n",
    "\n",
    "number_of_heads = flips.sum(axis=1)"
   ]
  },
  {
   "cell_type": "code",
   "execution_count": 9,
   "metadata": {},
   "outputs": [
    {
     "data": {
      "text/plain": [
       "0.2129"
      ]
     },
     "execution_count": 9,
     "metadata": {},
     "output_type": "execute_result"
    }
   ],
   "source": [
    "number_of_heads\n",
    "exactly_3_heads = number_of_heads == 3\n",
    "\n",
    "(exactly_3_heads).mean()"
   ]
  },
  {
   "cell_type": "markdown",
   "metadata": {},
   "source": [
    "### What is the probability of getting more than 3 heads?"
   ]
  },
  {
   "cell_type": "code",
   "execution_count": 10,
   "metadata": {},
   "outputs": [
    {
     "data": {
      "text/plain": [
       "0.6426"
      ]
     },
     "execution_count": 10,
     "metadata": {},
     "output_type": "execute_result"
    }
   ],
   "source": [
    "more_than_3_heads = number_of_heads > 3\n",
    "(more_than_3_heads).mean()"
   ]
  },
  {
   "cell_type": "markdown",
   "metadata": {},
   "source": [
    "### 3.) There are approximitely 3 web development cohorts for every 1 data science cohort at Codeup. Assuming that Codeup randomly selects an alumni to put on a billboard, what are the odds that the two billboards I drive past both have data science students on them?"
   ]
  },
  {
   "cell_type": "code",
   "execution_count": 11,
   "metadata": {},
   "outputs": [],
   "source": [
    "# 1 representing my data web_dev = 0, DS = 1\n",
    "# 2 creating the matrix\n",
    "codeup = np.random.choice([0 ,1], size=(10_000, 2), p=[.75, .25])"
   ]
  },
  {
   "cell_type": "code",
   "execution_count": 12,
   "metadata": {},
   "outputs": [
    {
     "data": {
      "text/plain": [
       "0.0609"
      ]
     },
     "execution_count": 12,
     "metadata": {},
     "output_type": "execute_result"
    }
   ],
   "source": [
    "codeup_alumni = codeup.sum(axis=1)\n",
    "alumni_billboard = codeup_alumni == 2\n",
    "(alumni_billboard).mean()\n"
   ]
  },
  {
   "cell_type": "markdown",
   "metadata": {},
   "source": [
    "### 4.) Codeup students buy, on average, 3 poptart packages (+- 1.5) a day from the snack vending machine. If on monday the machine is restocked with 17 poptart packages, how likely is it that I will be able to buy some poptarts on Friday afternoon?"
   ]
  },
  {
   "cell_type": "code",
   "execution_count": 13,
   "metadata": {},
   "outputs": [],
   "source": [
    "poptarts = np.random.normal(3, 1.5, size=(10_000, 5))\n",
    "total_poptarts = poptarts.sum(axis=1)"
   ]
  },
  {
   "cell_type": "code",
   "execution_count": 14,
   "metadata": {},
   "outputs": [
    {
     "data": {
      "text/plain": [
       "0.6074"
      ]
     },
     "execution_count": 14,
     "metadata": {},
     "output_type": "execute_result"
    }
   ],
   "source": [
    "total_poptarts\n",
    "probability_poptarts = total_poptarts <= 16\n",
    "\n",
    "(probability_poptarts).mean()"
   ]
  },
  {
   "cell_type": "markdown",
   "metadata": {},
   "source": [
    "### 5.) Compare Heights:\n",
    "\n",
    "- Men have an average height of 178 cm and standard deviation of 8cm."
   ]
  },
  {
   "cell_type": "code",
   "execution_count": 15,
   "metadata": {},
   "outputs": [
    {
     "data": {
      "text/plain": [
       "array([180.36955631, 171.08876147, 172.81489168, ..., 175.25175696,\n",
       "       176.51270886, 166.36569309])"
      ]
     },
     "execution_count": 15,
     "metadata": {},
     "output_type": "execute_result"
    }
   ],
   "source": [
    "man_height = np.random.normal(178, 8, size=10_000)\n",
    "man_height"
   ]
  },
  {
   "cell_type": "markdown",
   "metadata": {},
   "source": [
    "- Women have a mean of 170, sd = 6cm."
   ]
  },
  {
   "cell_type": "code",
   "execution_count": 16,
   "metadata": {},
   "outputs": [
    {
     "data": {
      "text/plain": [
       "array([172.7272776 , 166.50768744, 166.19525875, ..., 163.15707147,\n",
       "       167.53920486, 171.07111617])"
      ]
     },
     "execution_count": 16,
     "metadata": {},
     "output_type": "execute_result"
    }
   ],
   "source": [
    "woman_height = np.random.normal(170, 6, size=10_000)\n",
    "woman_height"
   ]
  },
  {
   "cell_type": "markdown",
   "metadata": {},
   "source": [
    " \n",
    "- If a man and woman are chosen at random, P(woman taller than man)?"
   ]
  },
  {
   "cell_type": "code",
   "execution_count": 17,
   "metadata": {},
   "outputs": [
    {
     "data": {
      "text/html": [
       "<div>\n",
       "<style scoped>\n",
       "    .dataframe tbody tr th:only-of-type {\n",
       "        vertical-align: middle;\n",
       "    }\n",
       "\n",
       "    .dataframe tbody tr th {\n",
       "        vertical-align: top;\n",
       "    }\n",
       "\n",
       "    .dataframe thead th {\n",
       "        text-align: right;\n",
       "    }\n",
       "</style>\n",
       "<table border=\"1\" class=\"dataframe\">\n",
       "  <thead>\n",
       "    <tr style=\"text-align: right;\">\n",
       "      <th></th>\n",
       "      <th>man_height</th>\n",
       "      <th>woman_height</th>\n",
       "    </tr>\n",
       "  </thead>\n",
       "  <tbody>\n",
       "    <tr>\n",
       "      <td>0</td>\n",
       "      <td>180.369556</td>\n",
       "      <td>172.727278</td>\n",
       "    </tr>\n",
       "    <tr>\n",
       "      <td>1</td>\n",
       "      <td>171.088761</td>\n",
       "      <td>166.507687</td>\n",
       "    </tr>\n",
       "    <tr>\n",
       "      <td>2</td>\n",
       "      <td>172.814892</td>\n",
       "      <td>166.195259</td>\n",
       "    </tr>\n",
       "    <tr>\n",
       "      <td>3</td>\n",
       "      <td>181.931764</td>\n",
       "      <td>166.401674</td>\n",
       "    </tr>\n",
       "    <tr>\n",
       "      <td>4</td>\n",
       "      <td>169.475449</td>\n",
       "      <td>164.621889</td>\n",
       "    </tr>\n",
       "    <tr>\n",
       "      <td>...</td>\n",
       "      <td>...</td>\n",
       "      <td>...</td>\n",
       "    </tr>\n",
       "    <tr>\n",
       "      <td>9995</td>\n",
       "      <td>189.334281</td>\n",
       "      <td>173.703016</td>\n",
       "    </tr>\n",
       "    <tr>\n",
       "      <td>9996</td>\n",
       "      <td>182.783552</td>\n",
       "      <td>162.510543</td>\n",
       "    </tr>\n",
       "    <tr>\n",
       "      <td>9997</td>\n",
       "      <td>175.251757</td>\n",
       "      <td>163.157071</td>\n",
       "    </tr>\n",
       "    <tr>\n",
       "      <td>9998</td>\n",
       "      <td>176.512709</td>\n",
       "      <td>167.539205</td>\n",
       "    </tr>\n",
       "    <tr>\n",
       "      <td>9999</td>\n",
       "      <td>166.365693</td>\n",
       "      <td>171.071116</td>\n",
       "    </tr>\n",
       "  </tbody>\n",
       "</table>\n",
       "<p>10000 rows × 2 columns</p>\n",
       "</div>"
      ],
      "text/plain": [
       "      man_height  woman_height\n",
       "0     180.369556    172.727278\n",
       "1     171.088761    166.507687\n",
       "2     172.814892    166.195259\n",
       "3     181.931764    166.401674\n",
       "4     169.475449    164.621889\n",
       "...          ...           ...\n",
       "9995  189.334281    173.703016\n",
       "9996  182.783552    162.510543\n",
       "9997  175.251757    163.157071\n",
       "9998  176.512709    167.539205\n",
       "9999  166.365693    171.071116\n",
       "\n",
       "[10000 rows x 2 columns]"
      ]
     },
     "execution_count": 17,
     "metadata": {},
     "output_type": "execute_result"
    }
   ],
   "source": [
    "df1 = pd.DataFrame(list(zip(man_height, woman_height)), columns=[\"man_height\", \"woman_height\"])\n",
    "\n",
    "df1"
   ]
  },
  {
   "cell_type": "code",
   "execution_count": 18,
   "metadata": {},
   "outputs": [
    {
     "data": {
      "text/plain": [
       "0.2075"
      ]
     },
     "execution_count": 18,
     "metadata": {},
     "output_type": "execute_result"
    }
   ],
   "source": [
    "woman_percent = df1['woman_height'] > df1['man_height']\n",
    "\n",
    "(woman_percent).mean()"
   ]
  },
  {
   "cell_type": "markdown",
   "metadata": {},
   "source": []
  },
  {
   "cell_type": "markdown",
   "metadata": {},
   "source": [
    "### 6.) When installing anaconda on a student's computer, there's a 1 in 250 chance that the download is corrupted and the installation fails. What are the odds that after having 50 students download anaconda, no one has an installation issue? "
   ]
  },
  {
   "cell_type": "code",
   "execution_count": 19,
   "metadata": {},
   "outputs": [
    {
     "data": {
      "text/plain": [
       "0.996"
      ]
     },
     "execution_count": 19,
     "metadata": {},
     "output_type": "execute_result"
    }
   ],
   "source": [
    "1/250\n",
    "1.0 - .004"
   ]
  },
  {
   "cell_type": "code",
   "execution_count": 27,
   "metadata": {},
   "outputs": [
    {
     "data": {
      "text/plain": [
       "0.995972"
      ]
     },
     "execution_count": 27,
     "metadata": {},
     "output_type": "execute_result"
    }
   ],
   "source": [
    "one_in_50 = np.random.choice([0, 1], size=(10_000, 50), p=[1/250,249/250])\n",
    "(one_in_50).mean()"
   ]
  },
  {
   "cell_type": "markdown",
   "metadata": {},
   "source": [
    "## 100 students?"
   ]
  },
  {
   "cell_type": "code",
   "execution_count": 21,
   "metadata": {},
   "outputs": [
    {
     "data": {
      "text/plain": [
       "0.995926"
      ]
     },
     "execution_count": 21,
     "metadata": {},
     "output_type": "execute_result"
    }
   ],
   "source": [
    "one_in_100 = np.random.choice([1,0], size=(10_000, 100), p=[.996, .004])\n",
    "(one_in_100).mean()"
   ]
  },
  {
   "cell_type": "markdown",
   "metadata": {},
   "source": [
    "- What is the probability that we observe an installation issue within the first 150 students that download anaconda?"
   ]
  },
  {
   "cell_type": "code",
   "execution_count": 22,
   "metadata": {},
   "outputs": [
    {
     "data": {
      "text/plain": [
       "0.004030666666666667"
      ]
     },
     "execution_count": 22,
     "metadata": {},
     "output_type": "execute_result"
    }
   ],
   "source": [
    "one_in_150 = np.random.choice([0,1], size=(10_000, 150), p=[.996, .004])\n",
    "(one_in_150).mean()"
   ]
  },
  {
   "cell_type": "markdown",
   "metadata": {},
   "source": [
    "- How likely is it that 450 students all download anaconda without an issue?"
   ]
  },
  {
   "cell_type": "code",
   "execution_count": 23,
   "metadata": {},
   "outputs": [
    {
     "data": {
      "text/plain": [
       "0.9959406666666667"
      ]
     },
     "execution_count": 23,
     "metadata": {},
     "output_type": "execute_result"
    }
   ],
   "source": [
    "prob_450_students = np.random.choice([1, 0], size=(10_000, 450), p=[ .996, .004])\n",
    "\n",
    "(prob_450_students).mean()"
   ]
  },
  {
   "cell_type": "markdown",
   "metadata": {},
   "source": []
  },
  {
   "cell_type": "markdown",
   "metadata": {},
   "source": [
    "### 7.) There's a 70% chance on any given day that there will be at least one food truck at Travis Park. However, you haven't seen a food truck there in 3 days. How unlikely is this?"
   ]
  },
  {
   "cell_type": "code",
   "execution_count": 28,
   "metadata": {},
   "outputs": [],
   "source": [
    "food_truck = np.random.choice([0,1], size=(10_000, 3), p=[ .7, .3])\n",
    "\n",
    "df_food_truck = pd.DataFrame(food_truck)"
   ]
  },
  {
   "cell_type": "code",
   "execution_count": 29,
   "metadata": {},
   "outputs": [
    {
     "data": {
      "text/html": [
       "<div>\n",
       "<style scoped>\n",
       "    .dataframe tbody tr th:only-of-type {\n",
       "        vertical-align: middle;\n",
       "    }\n",
       "\n",
       "    .dataframe tbody tr th {\n",
       "        vertical-align: top;\n",
       "    }\n",
       "\n",
       "    .dataframe thead th {\n",
       "        text-align: right;\n",
       "    }\n",
       "</style>\n",
       "<table border=\"1\" class=\"dataframe\">\n",
       "  <thead>\n",
       "    <tr style=\"text-align: right;\">\n",
       "      <th></th>\n",
       "      <th>0</th>\n",
       "      <th>1</th>\n",
       "      <th>2</th>\n",
       "    </tr>\n",
       "  </thead>\n",
       "  <tbody>\n",
       "    <tr>\n",
       "      <td>0</td>\n",
       "      <td>1</td>\n",
       "      <td>1</td>\n",
       "      <td>0</td>\n",
       "    </tr>\n",
       "    <tr>\n",
       "      <td>1</td>\n",
       "      <td>0</td>\n",
       "      <td>1</td>\n",
       "      <td>0</td>\n",
       "    </tr>\n",
       "    <tr>\n",
       "      <td>2</td>\n",
       "      <td>0</td>\n",
       "      <td>1</td>\n",
       "      <td>0</td>\n",
       "    </tr>\n",
       "    <tr>\n",
       "      <td>3</td>\n",
       "      <td>0</td>\n",
       "      <td>0</td>\n",
       "      <td>0</td>\n",
       "    </tr>\n",
       "    <tr>\n",
       "      <td>4</td>\n",
       "      <td>0</td>\n",
       "      <td>0</td>\n",
       "      <td>1</td>\n",
       "    </tr>\n",
       "    <tr>\n",
       "      <td>...</td>\n",
       "      <td>...</td>\n",
       "      <td>...</td>\n",
       "      <td>...</td>\n",
       "    </tr>\n",
       "    <tr>\n",
       "      <td>9995</td>\n",
       "      <td>0</td>\n",
       "      <td>1</td>\n",
       "      <td>1</td>\n",
       "    </tr>\n",
       "    <tr>\n",
       "      <td>9996</td>\n",
       "      <td>0</td>\n",
       "      <td>0</td>\n",
       "      <td>1</td>\n",
       "    </tr>\n",
       "    <tr>\n",
       "      <td>9997</td>\n",
       "      <td>1</td>\n",
       "      <td>0</td>\n",
       "      <td>1</td>\n",
       "    </tr>\n",
       "    <tr>\n",
       "      <td>9998</td>\n",
       "      <td>0</td>\n",
       "      <td>0</td>\n",
       "      <td>1</td>\n",
       "    </tr>\n",
       "    <tr>\n",
       "      <td>9999</td>\n",
       "      <td>0</td>\n",
       "      <td>0</td>\n",
       "      <td>0</td>\n",
       "    </tr>\n",
       "  </tbody>\n",
       "</table>\n",
       "<p>10000 rows × 3 columns</p>\n",
       "</div>"
      ],
      "text/plain": [
       "      0  1  2\n",
       "0     1  1  0\n",
       "1     0  1  0\n",
       "2     0  1  0\n",
       "3     0  0  0\n",
       "4     0  0  1\n",
       "...  .. .. ..\n",
       "9995  0  1  1\n",
       "9996  0  0  1\n",
       "9997  1  0  1\n",
       "9998  0  0  1\n",
       "9999  0  0  0\n",
       "\n",
       "[10000 rows x 3 columns]"
      ]
     },
     "execution_count": 29,
     "metadata": {},
     "output_type": "execute_result"
    }
   ],
   "source": [
    "df_food_truck"
   ]
  },
  {
   "cell_type": "code",
   "execution_count": null,
   "metadata": {},
   "outputs": [],
   "source": []
  },
  {
   "cell_type": "markdown",
   "metadata": {},
   "source": [
    "- How likely is it that a food truck will show up sometime this week?"
   ]
  },
  {
   "cell_type": "code",
   "execution_count": 66,
   "metadata": {},
   "outputs": [
    {
     "data": {
      "text/plain": [
       "0.7027285714285715"
      ]
     },
     "execution_count": 66,
     "metadata": {},
     "output_type": "execute_result"
    }
   ],
   "source": [
    "food_truck = np.random.choice([1,0], size=(10_000, 7), p=[ .7, .3])\n",
    "(food_truck).mean()"
   ]
  },
  {
   "cell_type": "markdown",
   "metadata": {},
   "source": [
    "### 8.) If 23 people are in the same room, what are the odds that two of them share a birthday? What if it's 20 people? 40?"
   ]
  },
  {
   "cell_type": "code",
   "execution_count": 68,
   "metadata": {},
   "outputs": [
    {
     "data": {
      "text/plain": [
       "0.06301369863013699"
      ]
     },
     "execution_count": 68,
     "metadata": {},
     "output_type": "execute_result"
    }
   ],
   "source": [
    "23/365"
   ]
  },
  {
   "cell_type": "code",
   "execution_count": 106,
   "metadata": {},
   "outputs": [],
   "source": [
    "birthdays = np.random.choice(range(1,366), size=(10_000, 23) )"
   ]
  },
  {
   "cell_type": "code",
   "execution_count": 107,
   "metadata": {},
   "outputs": [
    {
     "data": {
      "text/html": [
       "<div>\n",
       "<style scoped>\n",
       "    .dataframe tbody tr th:only-of-type {\n",
       "        vertical-align: middle;\n",
       "    }\n",
       "\n",
       "    .dataframe tbody tr th {\n",
       "        vertical-align: top;\n",
       "    }\n",
       "\n",
       "    .dataframe thead th {\n",
       "        text-align: right;\n",
       "    }\n",
       "</style>\n",
       "<table border=\"1\" class=\"dataframe\">\n",
       "  <thead>\n",
       "    <tr style=\"text-align: right;\">\n",
       "      <th></th>\n",
       "      <th>0</th>\n",
       "      <th>1</th>\n",
       "      <th>2</th>\n",
       "      <th>3</th>\n",
       "      <th>4</th>\n",
       "      <th>5</th>\n",
       "      <th>6</th>\n",
       "      <th>7</th>\n",
       "      <th>8</th>\n",
       "      <th>9</th>\n",
       "      <th>...</th>\n",
       "      <th>13</th>\n",
       "      <th>14</th>\n",
       "      <th>15</th>\n",
       "      <th>16</th>\n",
       "      <th>17</th>\n",
       "      <th>18</th>\n",
       "      <th>19</th>\n",
       "      <th>20</th>\n",
       "      <th>21</th>\n",
       "      <th>22</th>\n",
       "    </tr>\n",
       "  </thead>\n",
       "  <tbody>\n",
       "    <tr>\n",
       "      <td>0</td>\n",
       "      <td>58</td>\n",
       "      <td>122</td>\n",
       "      <td>306</td>\n",
       "      <td>8</td>\n",
       "      <td>304</td>\n",
       "      <td>44</td>\n",
       "      <td>82</td>\n",
       "      <td>211</td>\n",
       "      <td>30</td>\n",
       "      <td>280</td>\n",
       "      <td>...</td>\n",
       "      <td>59</td>\n",
       "      <td>194</td>\n",
       "      <td>294</td>\n",
       "      <td>213</td>\n",
       "      <td>123</td>\n",
       "      <td>116</td>\n",
       "      <td>164</td>\n",
       "      <td>316</td>\n",
       "      <td>107</td>\n",
       "      <td>68</td>\n",
       "    </tr>\n",
       "    <tr>\n",
       "      <td>1</td>\n",
       "      <td>341</td>\n",
       "      <td>60</td>\n",
       "      <td>343</td>\n",
       "      <td>176</td>\n",
       "      <td>42</td>\n",
       "      <td>159</td>\n",
       "      <td>154</td>\n",
       "      <td>277</td>\n",
       "      <td>91</td>\n",
       "      <td>71</td>\n",
       "      <td>...</td>\n",
       "      <td>293</td>\n",
       "      <td>341</td>\n",
       "      <td>130</td>\n",
       "      <td>303</td>\n",
       "      <td>262</td>\n",
       "      <td>85</td>\n",
       "      <td>10</td>\n",
       "      <td>78</td>\n",
       "      <td>196</td>\n",
       "      <td>248</td>\n",
       "    </tr>\n",
       "    <tr>\n",
       "      <td>2</td>\n",
       "      <td>67</td>\n",
       "      <td>42</td>\n",
       "      <td>87</td>\n",
       "      <td>16</td>\n",
       "      <td>151</td>\n",
       "      <td>119</td>\n",
       "      <td>360</td>\n",
       "      <td>45</td>\n",
       "      <td>57</td>\n",
       "      <td>52</td>\n",
       "      <td>...</td>\n",
       "      <td>27</td>\n",
       "      <td>61</td>\n",
       "      <td>199</td>\n",
       "      <td>352</td>\n",
       "      <td>47</td>\n",
       "      <td>116</td>\n",
       "      <td>347</td>\n",
       "      <td>176</td>\n",
       "      <td>57</td>\n",
       "      <td>272</td>\n",
       "    </tr>\n",
       "    <tr>\n",
       "      <td>3</td>\n",
       "      <td>16</td>\n",
       "      <td>71</td>\n",
       "      <td>327</td>\n",
       "      <td>154</td>\n",
       "      <td>130</td>\n",
       "      <td>66</td>\n",
       "      <td>326</td>\n",
       "      <td>328</td>\n",
       "      <td>328</td>\n",
       "      <td>265</td>\n",
       "      <td>...</td>\n",
       "      <td>6</td>\n",
       "      <td>51</td>\n",
       "      <td>222</td>\n",
       "      <td>74</td>\n",
       "      <td>361</td>\n",
       "      <td>106</td>\n",
       "      <td>214</td>\n",
       "      <td>337</td>\n",
       "      <td>178</td>\n",
       "      <td>64</td>\n",
       "    </tr>\n",
       "    <tr>\n",
       "      <td>4</td>\n",
       "      <td>165</td>\n",
       "      <td>75</td>\n",
       "      <td>231</td>\n",
       "      <td>102</td>\n",
       "      <td>239</td>\n",
       "      <td>84</td>\n",
       "      <td>155</td>\n",
       "      <td>171</td>\n",
       "      <td>17</td>\n",
       "      <td>184</td>\n",
       "      <td>...</td>\n",
       "      <td>97</td>\n",
       "      <td>243</td>\n",
       "      <td>265</td>\n",
       "      <td>309</td>\n",
       "      <td>49</td>\n",
       "      <td>306</td>\n",
       "      <td>347</td>\n",
       "      <td>195</td>\n",
       "      <td>132</td>\n",
       "      <td>205</td>\n",
       "    </tr>\n",
       "    <tr>\n",
       "      <td>...</td>\n",
       "      <td>...</td>\n",
       "      <td>...</td>\n",
       "      <td>...</td>\n",
       "      <td>...</td>\n",
       "      <td>...</td>\n",
       "      <td>...</td>\n",
       "      <td>...</td>\n",
       "      <td>...</td>\n",
       "      <td>...</td>\n",
       "      <td>...</td>\n",
       "      <td>...</td>\n",
       "      <td>...</td>\n",
       "      <td>...</td>\n",
       "      <td>...</td>\n",
       "      <td>...</td>\n",
       "      <td>...</td>\n",
       "      <td>...</td>\n",
       "      <td>...</td>\n",
       "      <td>...</td>\n",
       "      <td>...</td>\n",
       "      <td>...</td>\n",
       "    </tr>\n",
       "    <tr>\n",
       "      <td>9995</td>\n",
       "      <td>221</td>\n",
       "      <td>83</td>\n",
       "      <td>197</td>\n",
       "      <td>142</td>\n",
       "      <td>164</td>\n",
       "      <td>219</td>\n",
       "      <td>72</td>\n",
       "      <td>363</td>\n",
       "      <td>36</td>\n",
       "      <td>105</td>\n",
       "      <td>...</td>\n",
       "      <td>53</td>\n",
       "      <td>134</td>\n",
       "      <td>172</td>\n",
       "      <td>353</td>\n",
       "      <td>130</td>\n",
       "      <td>1</td>\n",
       "      <td>194</td>\n",
       "      <td>134</td>\n",
       "      <td>111</td>\n",
       "      <td>30</td>\n",
       "    </tr>\n",
       "    <tr>\n",
       "      <td>9996</td>\n",
       "      <td>47</td>\n",
       "      <td>37</td>\n",
       "      <td>51</td>\n",
       "      <td>35</td>\n",
       "      <td>360</td>\n",
       "      <td>298</td>\n",
       "      <td>16</td>\n",
       "      <td>139</td>\n",
       "      <td>264</td>\n",
       "      <td>149</td>\n",
       "      <td>...</td>\n",
       "      <td>350</td>\n",
       "      <td>330</td>\n",
       "      <td>40</td>\n",
       "      <td>357</td>\n",
       "      <td>94</td>\n",
       "      <td>60</td>\n",
       "      <td>81</td>\n",
       "      <td>359</td>\n",
       "      <td>142</td>\n",
       "      <td>86</td>\n",
       "    </tr>\n",
       "    <tr>\n",
       "      <td>9997</td>\n",
       "      <td>294</td>\n",
       "      <td>253</td>\n",
       "      <td>216</td>\n",
       "      <td>182</td>\n",
       "      <td>350</td>\n",
       "      <td>224</td>\n",
       "      <td>216</td>\n",
       "      <td>68</td>\n",
       "      <td>169</td>\n",
       "      <td>255</td>\n",
       "      <td>...</td>\n",
       "      <td>151</td>\n",
       "      <td>76</td>\n",
       "      <td>182</td>\n",
       "      <td>228</td>\n",
       "      <td>92</td>\n",
       "      <td>21</td>\n",
       "      <td>347</td>\n",
       "      <td>275</td>\n",
       "      <td>114</td>\n",
       "      <td>228</td>\n",
       "    </tr>\n",
       "    <tr>\n",
       "      <td>9998</td>\n",
       "      <td>65</td>\n",
       "      <td>97</td>\n",
       "      <td>56</td>\n",
       "      <td>250</td>\n",
       "      <td>246</td>\n",
       "      <td>307</td>\n",
       "      <td>209</td>\n",
       "      <td>253</td>\n",
       "      <td>230</td>\n",
       "      <td>177</td>\n",
       "      <td>...</td>\n",
       "      <td>201</td>\n",
       "      <td>156</td>\n",
       "      <td>326</td>\n",
       "      <td>171</td>\n",
       "      <td>81</td>\n",
       "      <td>18</td>\n",
       "      <td>326</td>\n",
       "      <td>146</td>\n",
       "      <td>337</td>\n",
       "      <td>272</td>\n",
       "    </tr>\n",
       "    <tr>\n",
       "      <td>9999</td>\n",
       "      <td>23</td>\n",
       "      <td>141</td>\n",
       "      <td>147</td>\n",
       "      <td>347</td>\n",
       "      <td>307</td>\n",
       "      <td>21</td>\n",
       "      <td>308</td>\n",
       "      <td>308</td>\n",
       "      <td>279</td>\n",
       "      <td>127</td>\n",
       "      <td>...</td>\n",
       "      <td>312</td>\n",
       "      <td>176</td>\n",
       "      <td>332</td>\n",
       "      <td>28</td>\n",
       "      <td>19</td>\n",
       "      <td>319</td>\n",
       "      <td>10</td>\n",
       "      <td>163</td>\n",
       "      <td>350</td>\n",
       "      <td>275</td>\n",
       "    </tr>\n",
       "  </tbody>\n",
       "</table>\n",
       "<p>10000 rows × 23 columns</p>\n",
       "</div>"
      ],
      "text/plain": [
       "       0    1    2    3    4    5    6    7    8    9   ...   13   14   15  \\\n",
       "0      58  122  306    8  304   44   82  211   30  280  ...   59  194  294   \n",
       "1     341   60  343  176   42  159  154  277   91   71  ...  293  341  130   \n",
       "2      67   42   87   16  151  119  360   45   57   52  ...   27   61  199   \n",
       "3      16   71  327  154  130   66  326  328  328  265  ...    6   51  222   \n",
       "4     165   75  231  102  239   84  155  171   17  184  ...   97  243  265   \n",
       "...   ...  ...  ...  ...  ...  ...  ...  ...  ...  ...  ...  ...  ...  ...   \n",
       "9995  221   83  197  142  164  219   72  363   36  105  ...   53  134  172   \n",
       "9996   47   37   51   35  360  298   16  139  264  149  ...  350  330   40   \n",
       "9997  294  253  216  182  350  224  216   68  169  255  ...  151   76  182   \n",
       "9998   65   97   56  250  246  307  209  253  230  177  ...  201  156  326   \n",
       "9999   23  141  147  347  307   21  308  308  279  127  ...  312  176  332   \n",
       "\n",
       "       16   17   18   19   20   21   22  \n",
       "0     213  123  116  164  316  107   68  \n",
       "1     303  262   85   10   78  196  248  \n",
       "2     352   47  116  347  176   57  272  \n",
       "3      74  361  106  214  337  178   64  \n",
       "4     309   49  306  347  195  132  205  \n",
       "...   ...  ...  ...  ...  ...  ...  ...  \n",
       "9995  353  130    1  194  134  111   30  \n",
       "9996  357   94   60   81  359  142   86  \n",
       "9997  228   92   21  347  275  114  228  \n",
       "9998  171   81   18  326  146  337  272  \n",
       "9999   28   19  319   10  163  350  275  \n",
       "\n",
       "[10000 rows x 23 columns]"
      ]
     },
     "execution_count": 107,
     "metadata": {},
     "output_type": "execute_result"
    }
   ],
   "source": [
    "df_birthdays = pd.DataFrame(birthdays)\n",
    "\n",
    "\n",
    "df_birthdays\n",
    "\n",
    "#same_birthdays = df_birthday[]\n",
    "\n",
    "#birthday_probility = same_birthday >= 2\n",
    "\n",
    "#(birthday_probility).mean()"
   ]
  },
  {
   "cell_type": "code",
   "execution_count": 113,
   "metadata": {},
   "outputs": [
    {
     "data": {
      "text/plain": [
       "0.5119"
      ]
     },
     "execution_count": 113,
     "metadata": {},
     "output_type": "execute_result"
    }
   ],
   "source": [
    "new_df = df_birthdays.nunique(axis=1) < 23\n",
    "\n",
    "(new_df).mean()\n",
    "\n",
    "\n",
    "\n",
    "\n",
    "#df_birthdays\n",
    "\n",
    "#same_birthday = df_birthdays[0] == df_birthdays[1]\n",
    "\n",
    "#(same_birthday).mean()"
   ]
  },
  {
   "cell_type": "code",
   "execution_count": 118,
   "metadata": {},
   "outputs": [],
   "source": [
    "twenty_birthdays = np.random.choice(range(1,366), size=(10_000, 20))\n",
    "df_twenty = pd.DataFrame(twenty_birthdays)"
   ]
  },
  {
   "cell_type": "code",
   "execution_count": 120,
   "metadata": {},
   "outputs": [
    {
     "data": {
      "text/plain": [
       "0.4176"
      ]
     },
     "execution_count": 120,
     "metadata": {},
     "output_type": "execute_result"
    }
   ],
   "source": [
    "new_twenty_df = df_twenty.nunique(axis=1) < 20\n",
    "\n",
    "(new_twenty_df).mean()"
   ]
  },
  {
   "cell_type": "code",
   "execution_count": 121,
   "metadata": {},
   "outputs": [],
   "source": [
    "fourty_birthdays = np.random.choice(range(1,366), size=(10_000, 40))\n",
    "df_fourty = pd.DataFrame(fourty_birthdays)"
   ]
  },
  {
   "cell_type": "code",
   "execution_count": 123,
   "metadata": {},
   "outputs": [
    {
     "data": {
      "text/plain": [
       "0.8903"
      ]
     },
     "execution_count": 123,
     "metadata": {},
     "output_type": "execute_result"
    }
   ],
   "source": [
    "new_fourty_df = df_fourty.nunique(axis=1) < 40\n",
    "(new_fourty_df).mean()"
   ]
  }
 ],
 "metadata": {
  "kernelspec": {
   "display_name": "Python 3",
   "language": "python",
   "name": "python3"
  }
 },
 "nbformat": 4,
 "nbformat_minor": 2
}
