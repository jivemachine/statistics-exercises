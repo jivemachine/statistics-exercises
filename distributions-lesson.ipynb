{
 "cells": [
  {
   "cell_type": "markdown",
   "metadata": {},
   "source": [
    "# Statistical Distributions\n",
    "\n",
    "- def: math functions implemented with python code in the `scipy` library that we can use to model real-world processes"
   ]
  },
  {
   "cell_type": "code",
   "execution_count": 3,
   "metadata": {},
   "outputs": [],
   "source": [
    "from scipy import stats\n",
    "import numpy as np\n",
    "import matplotlib.pyplot as plt"
   ]
  },
  {
   "cell_type": "markdown",
   "metadata": {},
   "source": [
    "## Uniform Distribution\n",
    "\n",
    "- discrete `randint`\n",
    "- continous `uniform`"
   ]
  },
  {
   "cell_type": "code",
   "execution_count": 4,
   "metadata": {},
   "outputs": [
    {
     "data": {
      "text/plain": [
       "<scipy.stats._distn_infrastructure.rv_frozen at 0x1a20796390>"
      ]
     },
     "execution_count": 4,
     "metadata": {},
     "output_type": "execute_result"
    }
   ],
   "source": [
    "die_distribution = stats.randint(1, 7)\n",
    "die_distribution"
   ]
  },
  {
   "cell_type": "markdown",
   "metadata": {},
   "source": [
    "## Working with Distributions\n",
    "\n",
    "- `.rvs`: random values, e.g. for simulation\n",
    "- `.pmf` + `.pdf`: =\n",
    "- `.cdf` + `.ppf`: <=\n",
    "- `.sf` + `.isf`: >"
   ]
  },
  {
   "cell_type": "code",
   "execution_count": 6,
   "metadata": {},
   "outputs": [
    {
     "data": {
      "text/plain": [
       "array([1, 6, 1, 4, 3, 4, 1, 3, 2, 4, 6, 3, 5, 5, 5, 6, 4, 5, 3, 4, 4, 3,\n",
       "       2, 3, 5, 4, 6, 1, 5, 4, 2, 3, 1, 5, 5, 3, 5, 3, 2, 1, 3, 6, 3, 2,\n",
       "       6, 1, 2, 1, 3, 6, 2, 2, 2, 5, 3, 4, 1, 4, 1, 3, 3, 1, 5, 3, 1, 3,\n",
       "       5, 2, 6, 4, 1, 3, 2, 5, 1, 2, 6, 2, 6, 6, 2, 3, 5, 3, 4, 5, 6, 3,\n",
       "       1, 3, 4, 4, 1, 1, 6, 4, 6, 4, 6, 1])"
      ]
     },
     "execution_count": 6,
     "metadata": {},
     "output_type": "execute_result"
    }
   ],
   "source": [
    "# .rvs() is rolling a dice\n",
    "die_distribution.rvs()\n",
    "\n",
    "# rolling 100 dice, 2 times into a single array\n",
    "die_distribution.rvs(100, 2)"
   ]
  },
  {
   "cell_type": "code",
   "execution_count": 8,
   "metadata": {},
   "outputs": [
    {
     "data": {
      "text/plain": [
       "array([[1, 5],\n",
       "       [6, 1],\n",
       "       [4, 6],\n",
       "       [3, 3],\n",
       "       [5, 6]])"
      ]
     },
     "execution_count": 8,
     "metadata": {},
     "output_type": "execute_result"
    }
   ],
   "source": [
    "die_distribution.rvs((5,2))"
   ]
  },
  {
   "cell_type": "code",
   "execution_count": 9,
   "metadata": {},
   "outputs": [
    {
     "data": {
      "text/plain": [
       "0.16666666666666666"
      ]
     },
     "execution_count": 9,
     "metadata": {},
     "output_type": "execute_result"
    }
   ],
   "source": [
    "# what is ther likelyhood that we roll a 4?\n",
    "die_distribution.pmf(4)"
   ]
  },
  {
   "cell_type": "code",
   "execution_count": 10,
   "metadata": {},
   "outputs": [
    {
     "data": {
      "text/plain": [
       "0.5"
      ]
     },
     "execution_count": 10,
     "metadata": {},
     "output_type": "execute_result"
    }
   ],
   "source": [
    "# what is the liklihood thst we roll a 3 or less\n",
    "die_distribution.cdf(3)"
   ]
  },
  {
   "cell_type": "code",
   "execution_count": 11,
   "metadata": {},
   "outputs": [
    {
     "data": {
      "text/plain": [
       "0.6666666666666667"
      ]
     },
     "execution_count": 11,
     "metadata": {},
     "output_type": "execute_result"
    }
   ],
   "source": [
    "# Whats the liklihood that we roll grteater than 2?\n",
    "die_distribution.sf(2)"
   ]
  },
  {
   "cell_type": "code",
   "execution_count": 13,
   "metadata": {},
   "outputs": [
    {
     "data": {
      "text/plain": [
       "5.0"
      ]
     },
     "execution_count": 13,
     "metadata": {},
     "output_type": "execute_result"
    }
   ],
   "source": [
    "# there's a 1/6 chance i roll > than what number?\n",
    "\n",
    "p = 1/6\n",
    "\n",
    "die_distribution.isf(p)"
   ]
  },
  {
   "cell_type": "code",
   "execution_count": 14,
   "metadata": {},
   "outputs": [
    {
     "data": {
      "text/plain": [
       "3.0"
      ]
     },
     "execution_count": 14,
     "metadata": {},
     "output_type": "execute_result"
    }
   ],
   "source": [
    "#theres a 50% chance I roll what number or less?\n",
    "die_distribution.ppf(.5)"
   ]
  },
  {
   "cell_type": "markdown",
   "metadata": {},
   "source": [
    "## Normal Distribution\n",
    "\n",
    "- continuous random var\n",
    "- mean, $\\mu$, the center\n",
    "- standard deviation, $\\sigma$, the \"spread\""
   ]
  },
  {
   "cell_type": "code",
   "execution_count": 5,
   "metadata": {},
   "outputs": [
    {
     "data": {
      "text/plain": [
       "<scipy.stats._distn_infrastructure.rv_frozen at 0x10ef53890>"
      ]
     },
     "execution_count": 5,
     "metadata": {},
     "output_type": "execute_result"
    }
   ],
   "source": [
    "#creating a normal distribution\n",
    "#coffee consumption per coghort, we consume \n",
    "#10 leiter per day with a standard deviation or 1\n",
    "coffee_consumption = stats.norm(10, 1)\n",
    "coffee_consumption"
   ]
  },
  {
   "cell_type": "code",
   "execution_count": 11,
   "metadata": {},
   "outputs": [
    {
     "data": {
      "text/plain": [
       "(array([  2.,   2.,   7.,  18.,  30.,  44.,  79., 145., 195., 376., 500.,\n",
       "        608., 751., 865., 998., 960., 905., 867., 764., 588., 452., 312.,\n",
       "        214., 124.,  96.,  54.,  17.,  19.,   6.,   2.]),\n",
       " array([ 6.21653066,  6.46116776,  6.70580487,  6.95044198,  7.19507908,\n",
       "         7.43971619,  7.68435329,  7.9289904 ,  8.1736275 ,  8.41826461,\n",
       "         8.66290171,  8.90753882,  9.15217592,  9.39681303,  9.64145013,\n",
       "         9.88608724, 10.13072435, 10.37536145, 10.61999856, 10.86463566,\n",
       "        11.10927277, 11.35390987, 11.59854698, 11.84318408, 12.08782119,\n",
       "        12.33245829, 12.5770954 , 12.8217325 , 13.06636961, 13.31100672,\n",
       "        13.55564382]),\n",
       " <a list of 30 Patch objects>)"
      ]
     },
     "execution_count": 11,
     "metadata": {},
     "output_type": "execute_result"
    },
    {
     "data": {
      "image/png": "[encoded data removed]",
      "text/plain": [
       "<Figure size 432x288 with 1 Axes>"
      ]
     },
     "metadata": {
      "needs_background": "light"
     },
     "output_type": "display_data"
    }
   ],
   "source": [
    "#visualizing our distribution\n",
    "plt.hist(coffee_consumption.rvs(10_000), bins=30, fc='white', ec='black')\n",
    "\n"
   ]
  },
  {
   "cell_type": "code",
   "execution_count": 12,
   "metadata": {},
   "outputs": [
    {
     "data": {
      "text/plain": [
       "0.06680720126885807"
      ]
     },
     "execution_count": 12,
     "metadata": {},
     "output_type": "execute_result"
    }
   ],
   "source": [
    "# what's the likelihood that we consume less than (or equal to) 8.5 \n",
    "#liters of coffee in one day?\n",
    "coffee_consumption.cdf(8.5)"
   ]
  },
  {
   "cell_type": "code",
   "execution_count": 13,
   "metadata": {},
   "outputs": [
    {
     "data": {
      "text/plain": [
       "9.325510249803918"
      ]
     },
     "execution_count": 13,
     "metadata": {},
     "output_type": "execute_result"
    }
   ],
   "source": [
    "# how little coffee would we have to drink to be in the bottom quarter \n",
    "#of all days coffee consumptoion\n",
    "coffee_consumption.ppf(.25)"
   ]
  },
  {
   "cell_type": "markdown",
   "metadata": {},
   "source": [
    " the average internet consumption for a neighborhood is 1250 GB\n",
    " +- 100GB historical average for the last 3 months\n",
    " \n",
    "on monday we observed 1500GB of consumption. Assuming internet \n",
    "patterns havent changed how likely is it that we'd see this number\n",
    "due to chance\n"
   ]
  },
  {
   "cell_type": "code",
   "execution_count": 17,
   "metadata": {},
   "outputs": [
    {
     "data": {
      "text/plain": [
       "0.006209665325776132"
      ]
     },
     "execution_count": 17,
     "metadata": {},
     "output_type": "execute_result"
    }
   ],
   "source": [
    "stats.norm(1250, 100).sf(1500)\n",
    "# is same as "
   ]
  },
  {
   "cell_type": "code",
   "execution_count": 16,
   "metadata": {},
   "outputs": [
    {
     "data": {
      "text/plain": [
       "0.006209665325776132"
      ]
     },
     "execution_count": 16,
     "metadata": {},
     "output_type": "execute_result"
    }
   ],
   "source": [
    "internet_usage = stats.norm(1250, 100)\n",
    "internet_usage.sf(1500)"
   ]
  },
  {
   "cell_type": "code",
   "execution_count": 18,
   "metadata": {},
   "outputs": [
    {
     "data": {
      "text/plain": [
       "0.006209665325776132"
      ]
     },
     "execution_count": 18,
     "metadata": {},
     "output_type": "execute_result"
    }
   ],
   "source": [
    "mean = 1250\n",
    "std = 100\n",
    "stats.norm(mean, std).sf(1500)"
   ]
  },
  {
   "cell_type": "code",
   "execution_count": 20,
   "metadata": {},
   "outputs": [
    {
     "data": {
      "text/plain": [
       "1500.0"
      ]
     },
     "execution_count": 20,
     "metadata": {},
     "output_type": "execute_result"
    }
   ],
   "source": [
    "# how much consumption constistutes the top 0.006209665325776132\n",
    "# of all days?\n",
    "internet_usage.isf(0.006209665325776132)"
   ]
  },
  {
   "cell_type": "code",
   "execution_count": 21,
   "metadata": {},
   "outputs": [
    {
     "data": {
      "text/plain": [
       "1378.15515655446"
      ]
     },
     "execution_count": 21,
     "metadata": {},
     "output_type": "execute_result"
    }
   ],
   "source": [
    "# how much data usage constitutes the top 10% of all days\n",
    "internet_usage.isf(.1)"
   ]
  },
  {
   "cell_type": "code",
   "execution_count": 22,
   "metadata": {},
   "outputs": [
    {
     "data": {
      "text/plain": [
       "1378.15515655446"
      ]
     },
     "execution_count": 22,
     "metadata": {},
     "output_type": "execute_result"
    }
   ],
   "source": [
    "internet_usage.ppf(.9)"
   ]
  },
  {
   "cell_type": "code",
   "execution_count": 24,
   "metadata": {},
   "outputs": [
    {
     "data": {
      "text/plain": [
       "(array([3.000e+00, 6.000e+00, 9.000e+00, 3.100e+01, 5.100e+01, 1.270e+02,\n",
       "        2.340e+02, 4.490e+02, 8.500e+02, 1.474e+03, 2.350e+03, 3.433e+03,\n",
       "        4.744e+03, 6.232e+03, 7.626e+03, 8.827e+03, 9.791e+03, 9.950e+03,\n",
       "        9.640e+03, 8.532e+03, 7.435e+03, 5.816e+03, 4.407e+03, 3.030e+03,\n",
       "        2.131e+03, 1.217e+03, 7.650e+02, 4.270e+02, 2.240e+02, 1.010e+02,\n",
       "        4.800e+01, 2.300e+01, 1.000e+01, 2.000e+00, 5.000e+00]),\n",
       " array([ 815.5890921 ,  840.55805486,  865.52701762,  890.49598039,\n",
       "         915.46494315,  940.43390591,  965.40286868,  990.37183144,\n",
       "        1015.3407942 , 1040.30975696, 1065.27871973, 1090.24768249,\n",
       "        1115.21664525, 1140.18560802, 1165.15457078, 1190.12353354,\n",
       "        1215.0924963 , 1240.06145907, 1265.03042183, 1289.99938459,\n",
       "        1314.96834735, 1339.93731012, 1364.90627288, 1389.87523564,\n",
       "        1414.84419841, 1439.81316117, 1464.78212393, 1489.75108669,\n",
       "        1514.72004946, 1539.68901222, 1564.65797498, 1589.62693775,\n",
       "        1614.59590051, 1639.56486327, 1664.53382603, 1689.5027888 ]),\n",
       " <a list of 35 Patch objects>)"
      ]
     },
     "execution_count": 24,
     "metadata": {},
     "output_type": "execute_result"
    },
    {
     "data": {
      "image/png": "[encoded data removed]",
      "text/plain": [
       "<Figure size 432x288 with 1 Axes>"
      ]
     },
     "metadata": {
      "needs_background": "light"
     },
     "output_type": "display_data"
    }
   ],
   "source": [
    "plt.hist(internet_usage.rvs(100_000), bins=35, ec='black', fc='mintcream')"
   ]
  },
  {
   "cell_type": "markdown",
   "metadata": {},
   "source": [
    "## Binomial Distribution\n",
    "\n",
    "- discrete random var: number of \"successes\"\n",
    "- $n$, number of trials\n",
    "    - outcome of one trial is binary, yes or no\n",
    "- $p$, probability of success for one trial"
   ]
  },
  {
   "cell_type": "code",
   "execution_count": 30,
   "metadata": {},
   "outputs": [
    {
     "data": {
      "text/plain": [
       "0.3086999999999999"
      ]
     },
     "execution_count": 30,
     "metadata": {},
     "output_type": "execute_result"
    }
   ],
   "source": [
    "# theres a 70% chance a food truck shows up. Whats the likelihood\n",
    "# a food truck shows up 2 days out of the week?\n",
    "\n",
    "# outcome: # of days a food truck shows up\n",
    "# n == 5 (5 days in a week)\n",
    "# p == .70 (70% chance a food truck shows up)\n",
    "n = 5\n",
    "p = .3\n",
    "\n",
    "stats.binom(n, p).pmf(2)"
   ]
  },
  {
   "cell_type": "code",
   "execution_count": 31,
   "metadata": {},
   "outputs": [
    {
     "data": {
      "text/plain": [
       "Text(0, 0.5, 'probability of this outcome')"
      ]
     },
     "execution_count": 31,
     "metadata": {},
     "output_type": "execute_result"
    },
    {
     "data": {
      "image/png": "[encoded data removed]",
      "text/plain": [
       "<Figure size 1152x648 with 1 Axes>"
      ]
     },
     "metadata": {
      "needs_background": "light"
     },
     "output_type": "display_data"
    }
   ],
   "source": [
    "plt.figure(figsize=(16,9))\n",
    "x = np.arange(0, 6)\n",
    "y = stats.binom(n, p).pmf(x)\n",
    "\n",
    "plt.bar(x, y, width=1, ec='black', fc='yellow')\n",
    "plt.xlabel('# of days a food truck shows up')\n",
    "plt.ylabel('probability of this outcome')"
   ]
  },
  {
   "cell_type": "code",
   "execution_count": 32,
   "metadata": {},
   "outputs": [
    {
     "data": {
      "text/plain": [
       "0.47178000000000003"
      ]
     },
     "execution_count": 32,
     "metadata": {},
     "output_type": "execute_result"
    }
   ],
   "source": [
    "# what's the likelihood that a food truck shoes up 3 or less days \n",
    "# out of the week\n",
    "\n",
    "n = 5\n",
    "p = .7\n",
    "\n",
    "stats.binom(n, p).cdf(3)\n",
    "\n",
    "# 47% chance out of the week that theres a food truck at\n",
    "# travis park"
   ]
  },
  {
   "cell_type": "code",
   "execution_count": 33,
   "metadata": {},
   "outputs": [
    {
     "data": {
      "text/plain": [
       "0.16308000000000006"
      ]
     },
     "execution_count": 33,
     "metadata": {},
     "output_type": "execute_result"
    }
   ],
   "source": [
    "# what's the likelihood that a food truck shows up > than\n",
    "# 3 days out of the week\n",
    "\n",
    "#since we dont have a function that answers our question\n",
    "# but we do have a discrete distribution here\n",
    "# we can rephrase the question \n",
    "#likelihood a food truck shows up 2 or less days of the week\n",
    "stats.binom(n, p).cdf(2)"
   ]
  },
  {
   "cell_type": "code",
   "execution_count": 35,
   "metadata": {},
   "outputs": [
    {
     "data": {
      "text/plain": [
       "0.1630800000000001"
      ]
     },
     "execution_count": 35,
     "metadata": {},
     "output_type": "execute_result"
    }
   ],
   "source": [
    "# p(less than 3 days) is equal to\n",
    "# p(3 or less days) - p(3)\n",
    "stats.binom(n, p).cdf(3) - stats.binom(n, p).pmf(3)"
   ]
  },
  {
   "cell_type": "markdown",
   "metadata": {},
   "source": [
    "\n",
    "---\n",
    "\n",
    "say you go to the grocery store and theres a 80% chance they have\n",
    "toilet paper.\n",
    "\n",
    "If everyone in curie goes to the store how likely is it that\n",
    "we can all buy toilet paper?"
   ]
  },
  {
   "cell_type": "code",
   "execution_count": 39,
   "metadata": {},
   "outputs": [
    {
     "data": {
      "text/plain": [
       "0.0225179981368525"
      ]
     },
     "execution_count": 39,
     "metadata": {},
     "output_type": "execute_result"
    }
   ],
   "source": [
    "n = 17\n",
    "p = .8\n",
    "\n",
    "stats.binom(n, p).pmf(n) #likelihood that all trials are success"
   ]
  },
  {
   "cell_type": "markdown",
   "metadata": {},
   "source": [
    "suppose theres a suprise stats quiz this afternoon, and you \n",
    "haven't studied. there's 10 multiple choice questions, each with 4 answers. If you guess at random for each question. what's the likelihood that you will pass the quiz?"
   ]
  },
  {
   "cell_type": "code",
   "execution_count": 42,
   "metadata": {},
   "outputs": [
    {
     "data": {
      "text/plain": [
       "0.003505706787109374"
      ]
     },
     "execution_count": 42,
     "metadata": {},
     "output_type": "execute_result"
    }
   ],
   "source": [
    "n = 10\n",
    "p = .25\n",
    "\n",
    "stats.binom(n, p).sf(6) # 7 or more correct"
   ]
  },
  {
   "cell_type": "markdown",
   "metadata": {},
   "source": [
    "## Poisson Distribution\n",
    "\n",
    "- discrete random var: number of events\n",
    "- $\\lambda$: avg rate over time"
   ]
  },
  {
   "cell_type": "markdown",
   "metadata": {},
   "source": [
    "suppose we ask 3.5 questions per lecture. What is the likelihood that more than 4 questions are aked during thee statistical distribution lesson?"
   ]
  },
  {
   "cell_type": "code",
   "execution_count": 44,
   "metadata": {},
   "outputs": [
    {
     "data": {
      "text/plain": [
       "0.2745550466903957"
      ]
     },
     "execution_count": 44,
     "metadata": {},
     "output_type": "execute_result"
    }
   ],
   "source": [
    "stats.poisson(3.5).sf(4)"
   ]
  },
  {
   "cell_type": "code",
   "execution_count": 47,
   "metadata": {},
   "outputs": [
    {
     "data": {
      "text/plain": [
       "Text(0.5, 0, 'questions')"
      ]
     },
     "execution_count": 47,
     "metadata": {},
     "output_type": "execute_result"
    },
    {
     "data": {
      "image/png": "[encoded data removed]",
      "text/plain": [
       "<Figure size 432x288 with 1 Axes>"
      ]
     },
     "metadata": {
      "needs_background": "light"
     },
     "output_type": "display_data"
    }
   ],
   "source": [
    "x = np.arange(0, 12)\n",
    "y = stats.poisson(3.5).pmf(x)\n",
    "\n",
    "plt.bar(x, y, ec='black')\n",
    "plt.ylabel('probability')\n",
    "plt.xlabel('questions')"
   ]
  },
  {
   "cell_type": "markdown",
   "metadata": {},
   "source": [
    ">difference between poisson and binomial distribution, is that binomial dist. is fixed, and poisson doesnt have an endcap\n"
   ]
  },
  {
   "cell_type": "code",
   "execution_count": 49,
   "metadata": {},
   "outputs": [
    {
     "data": {
      "text/plain": [
       "0.32084719886213414"
      ]
     },
     "execution_count": 49,
     "metadata": {},
     "output_type": "execute_result"
    }
   ],
   "source": [
    "# what is the likelihood that 2 or fewer questions are asked?\n",
    "stats.poisson(3.5).cdf(2)"
   ]
  },
  {
   "cell_type": "code",
   "execution_count": 52,
   "metadata": {},
   "outputs": [
    {
     "data": {
      "text/plain": [
       "0.18473675547622787"
      ]
     },
     "execution_count": 52,
     "metadata": {},
     "output_type": "execute_result"
    }
   ],
   "source": [
    "# For modeling food trucks we used binomial dist.\n",
    "# given P(food trucks shows up one day), number of days\n",
    "\n",
    "# for a  poisson dist. , we need an average rate over time\n",
    "# given number of food trucks per week\n",
    "# on average 3 food trucks show up per week\n",
    "\n",
    "# for a given week whats the likelihood that a food truck\n",
    "# shows up everyday? -- p(5 or more food trucks)\n",
    "\n",
    "# we dont have a function for 5 or more but we do have a function\n",
    "#for more than and we will use .sf\n",
    "stats.poisson(3).sf(4)"
   ]
  },
  {
   "cell_type": "code",
   "execution_count": 56,
   "metadata": {},
   "outputs": [
    {
     "data": {
      "text/plain": [
       "<BarContainer object of 9 artists>"
      ]
     },
     "execution_count": 56,
     "metadata": {},
     "output_type": "execute_result"
    },
    {
     "data": {
      "image/png": "[encoded data removed]",
      "text/plain": [
       "<Figure size 1152x648 with 1 Axes>"
      ]
     },
     "metadata": {
      "needs_background": "light"
     },
     "output_type": "display_data"
    }
   ],
   "source": [
    "n = 5\n",
    "p = .7\n",
    "\n",
    "x = np.arange(1, 10)\n",
    "y = stats.binom(n, p).pmf(x)\n",
    "\n",
    "plt.figure(figsize=(16,9))\n",
    "plt.bar(x, y, ec='black', fc='white', width=1)"
   ]
  },
  {
   "cell_type": "markdown",
   "metadata": {},
   "source": [
    "differences between the poisson and binomial dist.\n",
    "\n",
    "- poisson is deined by an averge rte over time\n",
    "- poisson has no upper bound on number of events\n",
    "- binomial is defined by a chance of success and a number of trials\n",
    "- binomial "
   ]
  }
 ],
 "metadata": {
  "kernelspec": {
   "display_name": "Python 3",
   "language": "python",
   "name": "python3"
  },
  "language_info": {
   "codemirror_mode": {
    "name": "ipython",
    "version": 3
   },
   "file_extension": ".py",
   "mimetype": "text/x-python",
   "name": "python",
   "nbconvert_exporter": "python",
   "pygments_lexer": "ipython3",
   "version": "3.7.4"
  }
 },
 "nbformat": 4,
 "nbformat_minor": 2
}
