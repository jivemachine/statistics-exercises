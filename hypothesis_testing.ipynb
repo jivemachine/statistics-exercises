{
 "cells": [
  {
   "cell_type": "markdown",
   "metadata": {},
   "source": [
    "## For each of the following questions, formulate a null and alternative hypothesis (be as specific as you can be), then give an example of what a true positive, true negative, type I and type II errors would look like. Note that some of the questions are intentionally phrased in a vague way. It is your job to reword these as more precise questions that could be tested."
   ]
  },
  {
   "cell_type": "markdown",
   "metadata": {},
   "source": [
    "> Has the network latency gone up since we switched internet service providers?"
   ]
  },
  {
   "cell_type": "markdown",
   "metadata": {},
   "source": [
    "   - Run speedtest on ookla\n",
    "   - $H_0$ : our internet speeds have not changed since we changed internet providers.\n",
    "   - $H_a$ : our internet speeds have increased since we changed internet providers.\n",
    "    \n",
    "- True-positive: Reject $H_0$\n",
    "    - Speed after changing internet providers is faster\n",
    "- False-positive: Reject $H_0$\n",
    "    - internet speed after changing providers is faster, but I'm checking the speed at 10a.m on a Tuesday while nobody elseis home in the neighborhood\n",
    "- False-negative: Fail to reject $H_0$\n",
    " - Internet speeds are slower since changing internet providers, but I'm checking the speeds while everyone is quarantined for coronavirus and everyone is using similar internet providers.\n",
    "- True-negative: Fail to reject $H_0$\n",
    "    - since changing internet providers speeds are indeed slower."
   ]
  },
  {
   "cell_type": "markdown",
   "metadata": {},
   "source": [
    "> Is the website redesign any good?"
   ]
  },
  {
   "cell_type": "markdown",
   "metadata": {},
   "source": [
    "- survey our users, using a broad spectrum of demographics of new and existing users.\n",
    "- $H_0$: our website makes for a harder to navigate and confusing ux\n",
    "- $H_a$: Our website redesign makes for a better user experience\n",
    "    \n",
    "    - True-positive: reject $H_0$\n",
    "        - We surveyed a broad spectrum of users and our website re-design indeed made our website easier to navigate.\n",
    "    - False-positive: reject $H_0$\n",
    "        - We surveyed our designers of the ux and they told us that our ux is better\n",
    "    - False-negative: Fail to reject $H_0$\n",
    "        - We surveyed people in the 50+ age bracket and they had never been on a website before.\n",
    "    - True-negative: fail to reject $H_0$\n",
    "        - we surveyed a broad spectrum of users and found that our website re-design made it more complicated for new and exisiting users to navigate\n"
   ]
  },
  {
   "cell_type": "markdown",
   "metadata": {},
   "source": [
    "> Is our television ad driving more sales?"
   ]
  },
  {
   "cell_type": "markdown",
   "metadata": {},
   "source": [
    "- Getting the sales from the accounting department of the company\n",
    "- $H_0$: our television ad was unsuccessful and did not impact sales\n",
    "- $H_a$: our television ad was successful and made for a very successful quarter\n",
    "\n",
    "    - True-positive: Reject $H_0$\n",
    "        - since we aired the ad sales have increased 35% for the product advertised\n",
    "    - False-positive: Reject $H_0$\n",
    "        - since we aired the ad sales increased 15% for the product advertised but it's christmas.\n",
    "    - False-negative: fail to reject $H_0$\n",
    "        - since we aired our ad sales decreased 10% for the product advertised but we got our numbers from a disgruntled accountant who wants to sabotage our data.\n",
    "    - True-negative: Fail to reject $H_0$\n",
    "        - since we aired our ad sales decreased 72% for the product advertised because our ad was a crappy ad and nobody wanted to buy our product."
   ]
  }
 ],
 "metadata": {
  "kernelspec": {
   "display_name": "Python 3",
   "language": "python",
   "name": "python3"
  },
  "language_info": {
   "codemirror_mode": {
    "name": "ipython",
    "version": 3
   },
   "file_extension": ".py",
   "mimetype": "text/x-python",
   "name": "python",
   "nbconvert_exporter": "python",
   "pygments_lexer": "ipython3",
   "version": "3.7.4"
  }
 },
 "nbformat": 4,
 "nbformat_minor": 2
}
