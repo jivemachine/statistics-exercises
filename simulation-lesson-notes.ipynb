{
 "cells": [
  {
   "cell_type": "markdown",
   "metadata": {},
   "source": [
    "- **simulation**: an imitation of a real-world process\n",
    "- **trial**: one of the events that make up a simluation"
   ]
  },
  {
   "cell_type": "code",
   "execution_count": 1,
   "metadata": {},
   "outputs": [],
   "source": [
    "import numpy as np"
   ]
  },
  {
   "cell_type": "code",
   "execution_count": 38,
   "metadata": {},
   "outputs": [
    {
     "data": {
      "text/plain": [
       "0.49991119"
      ]
     },
     "execution_count": 38,
     "metadata": {},
     "output_type": "execute_result"
    }
   ],
   "source": [
    "flips = np.random.choice(['Heads', 'Tails'], size=100_000_000)\n",
    "\n",
    "(flips == 'Heads').mean()"
   ]
  },
  {
   "cell_type": "code",
   "execution_count": 39,
   "metadata": {},
   "outputs": [],
   "source": [
    "# How many heads do we get after flipping 2 coins?\n",
    "# n trials = 2\n",
    "# n of simulations = 10,000"
   ]
  },
  {
   "cell_type": "markdown",
   "metadata": {},
   "source": [
    "How to do simulation with python and numpy\n",
    "\n",
    "1. figure out a way to represent out data\n",
    "1. create a matrix of random data, rows == simulations, columns == trials\n",
    "1. apply an aggregate row-wise to get the results of each simulation\n",
    "1. apply a final aggregate to get our probility\n"
   ]
  },
  {
   "cell_type": "markdown",
   "metadata": {},
   "source": [
    "> What's the probility I get 2 or more herads after flipping 3 coins?"
   ]
  },
  {
   "cell_type": "code",
   "execution_count": 51,
   "metadata": {},
   "outputs": [
    {
     "data": {
      "text/plain": [
       "array([[0, 0, 1],\n",
       "       [0, 1, 1],\n",
       "       [0, 1, 0],\n",
       "       ...,\n",
       "       [1, 0, 0],\n",
       "       [0, 0, 0],\n",
       "       [1, 1, 1]])"
      ]
     },
     "execution_count": 51,
     "metadata": {},
     "output_type": "execute_result"
    }
   ],
   "source": [
    "# 1 . represent our data -- 0 is tails, 1 is heads\n",
    "# 2. create a matrix (nrows, ncols)\n",
    "flips = np.random.choice([0,1], size=(10_000, 3))\n",
    "flips"
   ]
  },
  {
   "cell_type": "code",
   "execution_count": 52,
   "metadata": {},
   "outputs": [
    {
     "data": {
      "text/plain": [
       "array([1, 2, 1, ..., 1, 0, 3])"
      ]
     },
     "execution_count": 52,
     "metadata": {},
     "output_type": "execute_result"
    }
   ],
   "source": [
    "# 3. apply an aggregate row-wise to get the results of each simulation\n",
    "simulation_results = flips.sum(axis=1)\n",
    "simulation_results"
   ]
  },
  {
   "cell_type": "code",
   "execution_count": 53,
   "metadata": {},
   "outputs": [
    {
     "data": {
      "text/plain": [
       "0.5006"
      ]
     },
     "execution_count": 53,
     "metadata": {},
     "output_type": "execute_result"
    }
   ],
   "source": [
    "# 4. apply a final aggregation to get the probability\n",
    "(simulation_results >= 2).mean()"
   ]
  },
  {
   "cell_type": "markdown",
   "metadata": {},
   "source": [
    ">Out of all of our simulations, 50% of our coin flips were heads"
   ]
  },
  {
   "cell_type": "code",
   "execution_count": 104,
   "metadata": {},
   "outputs": [
    {
     "data": {
      "text/plain": [
       "array(['a', 'a', 'a', 'a', 'a', 'a', 'c', 'a', 'a', 'a', 'a', 'a', 'a',\n",
       "       'a', 'a', 'a', 'a', 'a', 'a', 'a', 'a', 'b', 'a', 'a', 'a'],\n",
       "      dtype='<U1')"
      ]
     },
     "execution_count": 104,
     "metadata": {},
     "output_type": "execute_result"
    }
   ],
   "source": [
    "# the p-keyword argument skews the odds\n",
    "np.random.seed(123) #for reproduceability\n",
    "np.random.choice(['a','b', 'c'], size=25, p=[.8, .1, .1])\n",
    "\n"
   ]
  },
  {
   "cell_type": "code",
   "execution_count": 72,
   "metadata": {},
   "outputs": [
    {
     "data": {
      "text/plain": [
       "array([0.37454012, 0.95071431, 0.73199394, 0.59865848, 0.15601864,\n",
       "       0.15599452, 0.05808361, 0.86617615, 0.60111501, 0.70807258,\n",
       "       0.02058449, 0.96990985, 0.83244264, 0.21233911, 0.18182497,\n",
       "       0.18340451, 0.30424224, 0.52475643, 0.43194502, 0.29122914,\n",
       "       0.61185289, 0.13949386, 0.29214465, 0.36636184, 0.45606998,\n",
       "       0.78517596, 0.19967378, 0.51423444, 0.59241457, 0.04645041,\n",
       "       0.60754485, 0.17052412, 0.06505159, 0.94888554, 0.96563203,\n",
       "       0.80839735, 0.30461377, 0.09767211, 0.68423303, 0.44015249,\n",
       "       0.12203823, 0.49517691, 0.03438852, 0.9093204 , 0.25877998,\n",
       "       0.66252228, 0.31171108, 0.52006802, 0.54671028, 0.18485446,\n",
       "       0.96958463, 0.77513282, 0.93949894, 0.89482735, 0.59789998,\n",
       "       0.92187424, 0.0884925 , 0.19598286, 0.04522729, 0.32533033,\n",
       "       0.38867729, 0.27134903, 0.82873751, 0.35675333, 0.28093451,\n",
       "       0.54269608, 0.14092422, 0.80219698, 0.07455064, 0.98688694,\n",
       "       0.77224477, 0.19871568, 0.00552212, 0.81546143, 0.70685734,\n",
       "       0.72900717, 0.77127035, 0.07404465, 0.35846573, 0.11586906,\n",
       "       0.86310343, 0.62329813, 0.33089802, 0.06355835, 0.31098232,\n",
       "       0.32518332, 0.72960618, 0.63755747, 0.88721274, 0.47221493,\n",
       "       0.11959425, 0.71324479, 0.76078505, 0.5612772 , 0.77096718,\n",
       "       0.4937956 , 0.52273283, 0.42754102, 0.02541913, 0.10789143])"
      ]
     },
     "execution_count": 72,
     "metadata": {},
     "output_type": "execute_result"
    }
   ],
   "source": [
    "np.random.seed(42)\n",
    "np.random.uniform(size=100)"
   ]
  },
  {
   "cell_type": "code",
   "execution_count": 106,
   "metadata": {},
   "outputs": [
    {
     "data": {
      "text/plain": [
       "array([1.5896988 , 2.25234868, 2.01513239, 2.25143132, 3.24036728,\n",
       "       1.14436253, 1.2205452 , 0.24977574, 2.76584245, 2.30401882,\n",
       "       1.22586594, 5.36160126, 3.03499308, 2.65535831, 2.27496771,\n",
       "       4.03960617, 2.75827196, 2.88709464, 1.33930422, 3.01353855,\n",
       "       3.33737412, 2.07337702, 3.27574741, 3.37085233, 4.17430715,\n",
       "       0.96770752, 3.58250829, 2.2788242 , 1.2975764 , 3.76764147,\n",
       "       3.37067905, 5.07545935, 3.12775769, 4.79988945, 4.23836635,\n",
       "       3.91375695, 3.46626803, 3.12503966, 2.80234908, 2.27196508,\n",
       "       2.38968658, 2.12695103, 3.15646903, 3.28655207, 3.8677178 ,\n",
       "       4.26751791, 5.10783998, 2.76391055, 2.76791817, 1.92186059,\n",
       "       4.16318454, 3.52249007, 4.84436521, 3.69556401, 2.8183108 ,\n",
       "       2.57773935, 4.01172044, 2.93324259, 2.84393611, 4.58346474,\n",
       "       2.21340602, 3.51156008, 4.4414405 , 2.16309226, 3.45987201,\n",
       "       1.57329962, 2.44327025, 3.17983988, 0.85553612, 2.27291101,\n",
       "       3.30741813, 2.61246124, 2.19647792, 3.93898923, 3.43781947,\n",
       "       4.14109158, 3.17145177, 1.45042116, 2.02597652, 1.9508894 ,\n",
       "       2.53516562, 2.50944011, 4.0007457 , 5.14851419, 4.43240926,\n",
       "       2.86664667, 3.00577405, 2.33237919, 2.05938109, 3.93080981,\n",
       "       3.04634267, 4.33673724, 3.28026028, 4.49663046, 2.31584837,\n",
       "       3.335301  , 1.87144474, 2.86627288, 2.21496075, 2.76409716])"
      ]
     },
     "execution_count": 106,
     "metadata": {},
     "output_type": "execute_result"
    }
   ],
   "source": [
    "# .random pulls numbers from a normal distribution, \n",
    "#and the numbers used are the mean and standard deviation\n",
    "np.random.normal(3, 1, size=100)\n"
   ]
  },
  {
   "cell_type": "markdown",
   "metadata": {},
   "source": [
    ">you are at a carnival and come across a person in a booth offering you a game of chance.\n",
    "\n",
    ">you pay $5 dollars and roll 3 dice. if the sum of the dice rolls is greater than 12 you get 15 dollars. if its less than or equal to 12 you get nothin.\n",
    "\n",
    "\n",
    ">assuming the dice are fair, should you play this game? How would this change if the winning condition was a sum greater than or equal to 12?"
   ]
  },
  {
   "cell_type": "markdown",
   "metadata": {},
   "source": [
    "1. caluculat P(win)\n",
    "1. determibn wether we should play"
   ]
  },
  {
   "cell_type": "code",
   "execution_count": 121,
   "metadata": {},
   "outputs": [
    {
     "data": {
      "text/plain": [
       "array([[2, 3, 6],\n",
       "       [1, 3, 4],\n",
       "       [2, 3, 2],\n",
       "       ...,\n",
       "       [6, 2, 5],\n",
       "       [5, 2, 4],\n",
       "       [1, 5, 4]])"
      ]
     },
     "execution_count": 121,
     "metadata": {},
     "output_type": "execute_result"
    }
   ],
   "source": [
    "# 1. data representarion, numbers 1-6 represent which side came up on a die\n",
    "# 2. matricx of random numbers\n",
    "\n",
    "rolls = np.random.choice([1,2,3,4,5,6], size=(10_000, 3))\n",
    "\n",
    "rolls\n"
   ]
  },
  {
   "cell_type": "code",
   "execution_count": 123,
   "metadata": {},
   "outputs": [
    {
     "data": {
      "text/plain": [
       "array([11,  8,  7, ..., 13, 11, 10])"
      ]
     },
     "execution_count": 123,
     "metadata": {},
     "output_type": "execute_result"
    }
   ],
   "source": [
    "# 3. aggregate row-wise to get the results of each simulation\n",
    "sum_of_rolls = rolls.sum(axis=1)\n",
    "sum_of_rolls"
   ]
  },
  {
   "cell_type": "code",
   "execution_count": 126,
   "metadata": {},
   "outputs": [
    {
     "data": {
      "text/plain": [
       "0.3801"
      ]
     },
     "execution_count": 126,
     "metadata": {},
     "output_type": "execute_result"
    }
   ],
   "source": [
    "p_win = (sum_of_rolls >= 12).mean()\n",
    "\n",
    "p_win\n"
   ]
  },
  {
   "cell_type": "code",
   "execution_count": 129,
   "metadata": {},
   "outputs": [
    {
     "data": {
      "text/plain": [
       "5.7015"
      ]
     },
     "execution_count": 129,
     "metadata": {},
     "output_type": "execute_result"
    }
   ],
   "source": [
    "expected_winnings = p_win * 15\n",
    "expected_winnings"
   ]
  },
  {
   "cell_type": "code",
   "execution_count": null,
   "metadata": {},
   "outputs": [],
   "source": []
  }
 ],
 "metadata": {
  "kernelspec": {
   "display_name": "Python 3",
   "language": "python",
   "name": "python3"
  },
  "language_info": {
   "codemirror_mode": {
    "name": "ipython",
    "version": 3
   },
   "file_extension": ".py",
   "mimetype": "text/x-python",
   "name": "python",
   "nbconvert_exporter": "python",
   "pygments_lexer": "ipython3",
   "version": "3.7.4"
  }
 },
 "nbformat": 4,
 "nbformat_minor": 2
}
